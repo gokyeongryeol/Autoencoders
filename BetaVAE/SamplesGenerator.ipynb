{
 "cells": [
  {
   "cell_type": "code",
   "execution_count": null,
   "metadata": {},
   "outputs": [],
   "source": [
    "# importing modules\n",
    "\n",
    "\n",
    "import torch\n",
    "import torchvision\n",
    "import torchvision.transforms as transforms\n",
    "import torch.nn as nn\n",
    "import torch.optim as optim\n",
    "import scipy.io\n",
    "import numpy as np\n",
    "import matplotlib.pyplot as plt\n",
    "from torch.utils.data import Dataset\n",
    "from torchvision.utils import make_grid, save_image"
   ]
  },
  {
   "cell_type": "code",
   "execution_count": null,
   "metadata": {},
   "outputs": [],
   "source": [
    "# setting hyperparameters\n",
    "\n",
    "\n",
    "img_size = 64\n",
    "batch_size = 100\n",
    "num_threads = 8\n",
    "lat_dim = 10\n",
    "\n",
    "beta = 4\n",
    "\n",
    "device = torch.device(\"cuda:1\" if torch.cuda.is_available() else \"cpu\")"
   ]
  },
  {
   "cell_type": "code",
   "execution_count": null,
   "metadata": {},
   "outputs": [],
   "source": [
    "# loading dataset that is downloaded from the public\n",
    "\n",
    "\n",
    "dataset = np.load('data/dsprites/dsprites.npz', allow_pickle=True, encoding='latin1')\n",
    "imgs = dataset['imgs']\n",
    "classes = dataset['latents_classes']\n",
    "latent_sizes = dataset['metadata'][()]['latents_sizes']"
   ]
  },
  {
   "cell_type": "code",
   "execution_count": null,
   "metadata": {},
   "outputs": [],
   "source": [
    "# generating samples where instances within a batch share the same factor of variation.\n",
    "\n",
    "\n",
    "base = torch.zeros(size=(1, img_size * img_size + 1))\n",
    "for j in range(1500):\n",
    "    factor = np.random.choice(np.arange(5), 1)\n",
    "    num_cand = latent_sizes[factor+1]\n",
    "    value = np.random.choice(np.arange(num_cand), 1)\n",
    "    index = classes[:,factor+1]==value\n",
    "    index = index.reshape(-1)\n",
    "        \n",
    "    img = torch.Tensor(imgs[index])\n",
    "    num = len(img)\n",
    "    indices = torch.randperm(num)\n",
    "    img = img[indices][:batch_size].view(-1, img_size * img_size)\n",
    "    label = torch.Tensor([factor] * batch_size).view(-1, 1)\n",
    "    samples = torch.cat((img, label), dim=1)\n",
    "    base = torch.cat((base , samples), dim=0)\n",
    "    torch.save(base[1:], 'data/dsprites/base.pt')     \n",
    "print('complete')"
   ]
  }
 ],
 "metadata": {
  "kernelspec": {
   "display_name": "Python 3",
   "language": "python",
   "name": "python3"
  },
  "language_info": {
   "codemirror_mode": {
    "name": "ipython",
    "version": 3
   },
   "file_extension": ".py",
   "mimetype": "text/x-python",
   "name": "python",
   "nbconvert_exporter": "python",
   "pygments_lexer": "ipython3",
   "version": "3.7.4"
  },
  "pycharm": {
   "stem_cell": {
    "cell_type": "raw",
    "source": [],
    "metadata": {
     "collapsed": false
    }
   }
  }
 },
 "nbformat": 4,
 "nbformat_minor": 4
}